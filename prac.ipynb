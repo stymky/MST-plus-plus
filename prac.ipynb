{
 "cells": [
  {
   "cell_type": "code",
   "execution_count": 13,
   "metadata": {},
   "outputs": [
    {
     "name": "stdout",
     "output_type": "stream",
     "text": [
      "Shape of the data: (31, 482, 512)\n"
     ]
    }
   ],
   "source": [
    "import h5py\n",
    "import numpy as np\n",
    "# Open the HDF5 file\n",
    "with h5py.File(r'/home/exp/MST-plus-plus/visualization/simulation_results/results/ARAD_1K_0952.mat', 'r') as file:\n",
    "        hyper =np.float32(np.array(file['cube']))\n",
    "        hyper = np.transpose(hyper, [0, 2, 1])\n",
    "    # Now you can work with the data in Python\n",
    "    # For example, print the shape of the data\n",
    "print(\"Shape of the data:\", hyper.shape)\n"
   ]
  },
  {
   "cell_type": "code",
   "execution_count": null,
   "metadata": {},
   "outputs": [],
   "source": []
  }
 ],
 "metadata": {
  "kernelspec": {
   "display_name": "Python 3",
   "language": "python",
   "name": "python3"
  },
  "language_info": {
   "codemirror_mode": {
    "name": "ipython",
    "version": 3
   },
   "file_extension": ".py",
   "mimetype": "text/x-python",
   "name": "python",
   "nbconvert_exporter": "python",
   "pygments_lexer": "ipython3",
   "version": "3.8.10"
  }
 },
 "nbformat": 4,
 "nbformat_minor": 2
}
